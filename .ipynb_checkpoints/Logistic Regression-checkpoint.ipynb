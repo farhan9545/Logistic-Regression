{
 "cells": [
  {
   "cell_type": "code",
   "execution_count": 104,
   "metadata": {},
   "outputs": [],
   "source": [
    "import pandas as pd       # using pandas for data manipulation\n",
    "import matplotlib.pyplot as plt  # using matplotlib for visulization\n",
    "import numpy as np  \n",
    "import math# using numpy for array and matrix operations\n",
    "from sklearn.model_selection import train_test_split  # using sklearn for splitting our data in test and train data respectively"
   ]
  },
  {
   "cell_type": "code",
   "execution_count": 105,
   "metadata": {},
   "outputs": [],
   "source": [
    "df= pd.read_csv('ex2data1.txt')           # reading data in dataframe using pandas read csv function\n",
    "df.columns=['exam1_score','exam2_score','decision']        # renaming columns just to add clarity\n",
    "df=np.asarray(df)"
   ]
  },
  {
   "cell_type": "code",
   "execution_count": 106,
   "metadata": {},
   "outputs": [
    {
     "data": {
      "image/png": "[encoded data removed]",
      "text/plain": [
       "<Figure size 432x288 with 1 Axes>"
      ]
     },
     "metadata": {},
     "output_type": "display_data"
    }
   ],
   "source": [
    "plt.scatter(df[:,0],df[:,1],c=df[:,2])\n",
    "plt.show()"
   ]
  },
  {
   "cell_type": "code",
   "execution_count": 107,
   "metadata": {},
   "outputs": [],
   "source": [
    "def sigmoid(inX):\n",
    "    r = 1.0/(1+ np.exp(-inX))\n",
    "    return r    "
   ]
  },
  {
   "cell_type": "code",
   "execution_count": 108,
   "metadata": {},
   "outputs": [],
   "source": [
    "data= pd.read_csv('ex2data1.txt')           # reading data in dataframe using pandas read csv function\n",
    "data.columns=['exam1_score','exam2_score','decision']        # renaming columns just to add clarity"
   ]
  },
  {
   "cell_type": "code",
   "execution_count": 109,
   "metadata": {},
   "outputs": [],
   "source": [
    "features=data[['exam1_score','exam2_score']].copy()  # adding features to list\n",
    "price=data['decision'].copy()                # adding actual output to list\n",
    "features=pd.DataFrame(features)           # reading features as a dataframe\n",
    "features.insert(0, 'bias', 1)             # Adding bias term to make multiplication feasible \n",
    "price=np.asarray(price,dtype=np.float64)  # converting in numpy \n",
    "features=np.asarray(features,dtype=np.float64) # converting in numpy"
   ]
  },
  {
   "cell_type": "code",
   "execution_count": 110,
   "metadata": {},
   "outputs": [],
   "source": [
    "mean_size=features[:,1].mean()  # calculating mean of size feature\n",
    "std_size=features[:,1].std()    # calculating std of size feature\n",
    "features[:,1] = features[:,1]-(mean_size) # normalizing feature size\n",
    "features[:,1] =features[:,1]/ (std_size)  # normalizing feature size\n",
    "\n",
    "mean_bed=features[:,2].mean()   # calculating mean of bedroom feature\n",
    "std_bed=features[:,2].std()     # calculating std of bedroom feature\n",
    "features[:,2] = features[:,2]- mean_bed # normalizing feature size\n",
    "features[:,2] = features[:,2]/std_bed  # normalizing feature size\n",
    "features1=np.transpose(features)   # taking transpose of our feature vector"
   ]
  },
  {
   "cell_type": "code",
   "execution_count": 111,
   "metadata": {},
   "outputs": [],
   "source": [
    "X_train, X_test, y_train, y_test = train_test_split(features,price, test_size=0, random_state=40) # splitting data in test[0.33] and train[0.67]"
   ]
  },
  {
   "cell_type": "code",
   "execution_count": 112,
   "metadata": {},
   "outputs": [],
   "source": [
    "X_train=np.asarray(X_train) # converting series in array\n",
    "y_train=np.asarray(y_train) # converting series in array\n",
    "X_test=np.asarray(X_test) # converting series in array\n",
    "y_test=np.asarray(y_test) # converting series in array\n",
    "XT=np.transpose(X_train)"
   ]
  },
  {
   "cell_type": "code",
   "execution_count": 120,
   "metadata": {},
   "outputs": [],
   "source": [
    "total_features=2        # genralizing the number of fetaures . \n",
    "thetas=np.zeros(total_features+1) #making our paramters equal to the number of features \n",
    "alpha= 0.1    #learning rate 0.1\n",
    "epochs=5000# epoch 1000\n",
    "costs=[]   \n",
    "epoch=[]\n",
    "for e in range (epochs):\n",
    "    epoch.append(e)  # appending epoches for visulization\n",
    "    thetas=thetas-(alpha/len(y_train))*((np.dot(XT,((sigmoid(np.dot(X_train,thetas)))-y_train)))) # updating parameter values    \n",
    "    temp=(sigmoid(np.dot(X_train,thetas))-y_train)  \n",
    "    cost=(np.dot(np.transpose(temp),temp))/(2*len(y_train))\n",
    "    costs.append(cost) # appending cost for visulization"
   ]
  },
  {
   "cell_type": "code",
   "execution_count": 121,
   "metadata": {},
   "outputs": [
    {
     "data": {
      "text/plain": [
       "[<matplotlib.lines.Line2D at 0x256422a2588>]"
      ]
     },
     "execution_count": 121,
     "metadata": {},
     "output_type": "execute_result"
    },
    {
     "data": {
      "image/png": "[encoded data removed]",
      "text/plain": [
       "<Figure size 432x288 with 1 Axes>"
      ]
     },
     "metadata": {},
     "output_type": "display_data"
    }
   ],
   "source": [
    "plt.plot(epoch,costs,color='g') # ploting cost against epochs"
   ]
  },
  {
   "cell_type": "code",
   "execution_count": 122,
   "metadata": {},
   "outputs": [],
   "source": [
    "def predict_price(size,bedroom):\n",
    "    return(sigmoid((thetas[0]*1+thetas[1]*size+thetas[2]*bedroom)))"
   ]
  },
  {
   "cell_type": "code",
   "execution_count": 123,
   "metadata": {},
   "outputs": [
    {
     "name": "stdout",
     "output_type": "stream",
     "text": [
      "0.7768459994193255\n"
     ]
    }
   ],
   "source": [
    "print(predict_price((45-mean_size)/std_size,(85-mean_bed)/std_bed))"
   ]
  },
  {
   "cell_type": "code",
   "execution_count": 124,
   "metadata": {},
   "outputs": [],
   "source": [
    "y=[] # list initialize\n",
    "for i in range (0,len(X_train)):  # running for test data\n",
    "    y.append(sigmoid(thetas[0]+thetas[1]*X_train[:,1][i]+thetas[2]*X_train[:,2][i]))  # computing our hypothesis function and appending in a python list"
   ]
  },
  {
   "cell_type": "code",
   "execution_count": 125,
   "metadata": {},
   "outputs": [
    {
     "data": {
      "text/plain": [
       "array([1.7261453 , 3.84061664, 3.64320242])"
      ]
     },
     "execution_count": 125,
     "metadata": {},
     "output_type": "execute_result"
    }
   ],
   "source": [
    "thetas"
   ]
  },
  {
   "cell_type": "code",
   "execution_count": 126,
   "metadata": {},
   "outputs": [
    {
     "data": {
      "text/plain": [
       "0.033278282688946545"
      ]
     },
     "execution_count": 126,
     "metadata": {},
     "output_type": "execute_result"
    }
   ],
   "source": [
    "(cost)"
   ]
  },
  {
   "cell_type": "code",
   "execution_count": null,
   "metadata": {},
   "outputs": [],
   "source": []
  }
 ],
 "metadata": {
  "kernelspec": {
   "display_name": "Python 3",
   "language": "python",
   "name": "python3"
  },
  "language_info": {
   "codemirror_mode": {
    "name": "ipython",
    "version": 3
   },
   "file_extension": ".py",
   "mimetype": "text/x-python",
   "name": "python",
   "nbconvert_exporter": "python",
   "pygments_lexer": "ipython3",
   "version": "3.6.8"
  }
 },
 "nbformat": 4,
 "nbformat_minor": 2
}
